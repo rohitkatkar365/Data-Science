{
 "cells": [
  {
   "cell_type": "markdown",
   "id": "18b950d2",
   "metadata": {},
   "source": [
    "Syntax and Semantics in Python\n",
    "1. Single line Comments and multiline comments\n",
    "2. Definition of Syntax and Semantics\n",
    "3. Basic Syntax Rules in Python\n",
    "4. Understanding Semantics in Python\n",
    "5. Common Syntax Errors and How to Avoid Them\n",
    "6. Practical Code Examples\n",
    "\n",
    "Syntax refers to the set of rules that defines the combinations of symbols that are considered to be correctly structured programs in a language. In simpler terms, syntax is about the correct arrangement of words and symbols in a code.\n",
    "\n",
    "Semantics refers to the meaning or the interpretation of the symbols, characters, and commands in a language. It is about what the code is supposed to do when it runs."
   ]
  },
  {
   "cell_type": "code",
   "execution_count": 3,
   "id": "794eac6b",
   "metadata": {},
   "outputs": [
    {
     "name": "stdout",
     "output_type": "stream",
     "text": [
      "Rohit\n",
      "Rohit\n"
     ]
    }
   ],
   "source": [
    "# Case Sensitive\n",
    "\n",
    "name = \"Rohit\"\n",
    "Name = \"Rohit\"\n",
    "\n",
    "print(name)\n",
    "print(Name)"
   ]
  },
  {
   "cell_type": "markdown",
   "id": "9f313d90",
   "metadata": {},
   "source": [
    "Indentation\n",
    "\n",
    "\n",
    "Indentation in Python is used to define the structure and hierarchy of the code. Unlike many other programming languages that use braces {} to delimit blocks of code, Python uses indentation to determine the grouping of statements. This means that all the statements within a block must be indented at the same level."
   ]
  },
  {
   "cell_type": "code",
   "execution_count": 5,
   "id": "2c3f0dc9",
   "metadata": {},
   "outputs": [
    {
     "name": "stdout",
     "output_type": "stream",
     "text": [
      "You Can Vote Now\n"
     ]
    }
   ],
   "source": [
    "age = 18\n",
    "if age >= 18:\n",
    "    print(\"You Can Vote Now\")\n",
    "else :\n",
    "    print(\"You can't vote now\")"
   ]
  },
  {
   "cell_type": "markdown",
   "id": "72ceef2d",
   "metadata": {},
   "source": [
    "#Single-line Comment\n",
    "\n",
    "# Multi-line comment\n",
    "'''\n",
    "sfsdjkd\n",
    "f\n",
    "d\n",
    "df\n",
    "'''"
   ]
  },
  {
   "cell_type": "code",
   "execution_count": 7,
   "id": "a35bd4bd",
   "metadata": {},
   "outputs": [
    {
     "name": "stdout",
     "output_type": "stream",
     "text": [
      "19\n"
     ]
    }
   ],
   "source": [
    "# Line continuation\n",
    "\n",
    "test = 1+2+3*2\\\n",
    "+2*5\n",
    "\n",
    "print(test)"
   ]
  },
  {
   "cell_type": "code",
   "execution_count": 8,
   "id": "a689829d",
   "metadata": {},
   "outputs": [
    {
     "name": "stdout",
     "output_type": "stream",
     "text": [
      "1 2 3\n"
     ]
    }
   ],
   "source": [
    "# Multiple statement in python\n",
    "\n",
    "a = 1;b=2;c=3\n",
    "print(a,b,c)"
   ]
  },
  {
   "cell_type": "code",
   "execution_count": 9,
   "id": "8f681a71",
   "metadata": {},
   "outputs": [
    {
     "name": "stdout",
     "output_type": "stream",
     "text": [
      "<class 'str'> <class 'int'>\n"
     ]
    }
   ],
   "source": [
    "# How to check type of variable\n",
    "\n",
    "name = \"Ram\"\n",
    "age = 1\n",
    "\n",
    "print(type(name),type(age))"
   ]
  },
  {
   "cell_type": "markdown",
   "id": "1e9e20ea",
   "metadata": {},
   "source": [
    "Conclusion:\n",
    "Understanding the syntax and semantics of Python is crucial for writing correct and meaningful programs. Syntax ensures the code is properly structured, while semantics ensures the code behaves as expected. Mastering these concepts will help in writing efficient and error-free Python code."
   ]
  }
 ],
 "metadata": {
  "kernelspec": {
   "display_name": "Python 3",
   "language": "python",
   "name": "python3"
  },
  "language_info": {
   "codemirror_mode": {
    "name": "ipython",
    "version": 3
   },
   "file_extension": ".py",
   "mimetype": "text/x-python",
   "name": "python",
   "nbconvert_exporter": "python",
   "pygments_lexer": "ipython3",
   "version": "3.12.7"
  }
 },
 "nbformat": 4,
 "nbformat_minor": 5
}
