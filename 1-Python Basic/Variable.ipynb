{
 "cells": [
  {
   "cell_type": "markdown",
   "id": "38bda4bd",
   "metadata": {},
   "source": [
    "Variables\n",
    "Variables are fundamental elements in programming used to store data that can be referenced and manipulated in a program. In Python, variables are created when you assign a value to them, and they do not need explicit declaration to reserve memory space. The declaration happens automatically when you assign a value to a variable.\n",
    "\n",
    "1. Introduction to Variables\n",
    "2. Declaring and Assigning Variables\n",
    "3. Naming Conventions\n",
    "4. Understanding Variable Types\n",
    "5. Type Checking and Conversion\n",
    "6. Dynamic Typing\n",
    "7. Practical Examples and Common Errors"
   ]
  },
  {
   "cell_type": "code",
   "execution_count": 7,
   "id": "1bc9fb7c",
   "metadata": {},
   "outputs": [
    {
     "name": "stdout",
     "output_type": "stream",
     "text": [
      "23\n",
      "Ram\n",
      "True\n"
     ]
    }
   ],
   "source": [
    "# Declaring And Assigning Variable\n",
    "# Python is dynamically typed language\n",
    "age = 23\n",
    "first_name = \"Ram\"\n",
    "is_employee = True\n",
    "\n",
    "print(age)\n",
    "print(first_name)\n",
    "print(is_employee)"
   ]
  },
  {
   "cell_type": "code",
   "execution_count": 9,
   "id": "9cb0e343",
   "metadata": {},
   "outputs": [
    {
     "name": "stdout",
     "output_type": "stream",
     "text": [
      "<class 'int'>\n",
      "<class 'str'>\n"
     ]
    }
   ],
   "source": [
    "# Conversion of datatype\n",
    "a = 65\n",
    "print(type(a))\n",
    "\n",
    "a = str(a)\n",
    "print(type(a))"
   ]
  },
  {
   "cell_type": "code",
   "execution_count": 10,
   "id": "8d89bc98",
   "metadata": {},
   "outputs": [
    {
     "name": "stdout",
     "output_type": "stream",
     "text": [
      "Ram\n"
     ]
    }
   ],
   "source": [
    "# Get input from user\n",
    "name = input(\"Enter Your First Name:- \")\n",
    "print(name)"
   ]
  },
  {
   "cell_type": "markdown",
   "id": "76858017",
   "metadata": {},
   "source": [
    "Conclusion:\n",
    "Variables are essential in Python programming for storing and manipulating data. Understanding how to declare, assign, and use variables effectively is crucial for writing functional and efficient code. Following proper naming conventions and understanding variable types will help in maintaining readability and consistency in your code."
   ]
  }
 ],
 "metadata": {
  "kernelspec": {
   "display_name": "Python 3",
   "language": "python",
   "name": "python3"
  },
  "language_info": {
   "codemirror_mode": {
    "name": "ipython",
    "version": 3
   },
   "file_extension": ".py",
   "mimetype": "text/x-python",
   "name": "python",
   "nbconvert_exporter": "python",
   "pygments_lexer": "ipython3",
   "version": "3.12.7"
  }
 },
 "nbformat": 4,
 "nbformat_minor": 5
}
