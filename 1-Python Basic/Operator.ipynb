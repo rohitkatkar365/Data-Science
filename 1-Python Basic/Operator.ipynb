{
 "cells": [
  {
   "cell_type": "markdown",
   "id": "ab710f6f",
   "metadata": {},
   "source": [
    "### **1. Arithmetic Operators**\n",
    "\n",
    "Used for basic mathematical operations:\n",
    "\n",
    "| Operator | Description         | Example  |\n",
    "| -------- | ------------------- | -------- |\n",
    "| `+`      | Addition            | `a + b`  |\n",
    "| `-`      | Subtraction         | `a - b`  |\n",
    "| `*`      | Multiplication      | `a * b`  |\n",
    "| `/`      | Division (float)    | `a / b`  |\n",
    "| `//`     | Floor division      | `a // b` |\n",
    "| `%`      | Modulus (remainder) | `a % b`  |\n",
    "| `**`     | Exponentiation      | `a ** b` |\n",
    "\n",
    "---\n",
    "\n",
    "### **2. Assignment Operators**\n",
    "\n",
    "Used to assign values to variables:\n",
    "\n",
    "| Operator | Description             | Example   |\n",
    "| -------- | ----------------------- | --------- |\n",
    "| `=`      | Assign                  | `a = 5`   |\n",
    "| `+=`     | Add and assign          | `a += 5`  |\n",
    "| `-=`     | Subtract and assign     | `a -= 5`  |\n",
    "| `*=`     | Multiply and assign     | `a *= 5`  |\n",
    "| `/=`     | Divide and assign       | `a /= 5`  |\n",
    "| `//=`    | Floor divide and assign | `a //= 5` |\n",
    "| `%=`     | Modulus and assign      | `a %= 5`  |\n",
    "| `**=`    | Power and assign        | `a **= 2` |\n",
    "\n",
    "---\n",
    "\n",
    "### **3. Comparison Operators**\n",
    "\n",
    "Used to compare values:\n",
    "\n",
    "| Operator | Description      | Example  |\n",
    "| -------- | ---------------- | -------- |\n",
    "| `==`     | Equal to         | `a == b` |\n",
    "| `!=`     | Not equal to     | `a != b` |\n",
    "| `>`      | Greater than     | `a > b`  |\n",
    "| `<`      | Less than        | `a < b`  |\n",
    "| `>=`     | Greater or equal | `a >= b` |\n",
    "| `<=`     | Less or equal    | `a <= b` |\n",
    "\n",
    "---\n",
    "\n",
    "### **4. Logical Operators**\n",
    "\n",
    "Used to combine conditional statements:\n",
    "\n",
    "| Operator | Description | Example           |\n",
    "| -------- | ----------- | ----------------- |\n",
    "| `and`    | Logical AND | `a > 2 and b < 5` |\n",
    "| `or`     | Logical OR  | `a > 2 or b < 5`  |\n",
    "| `not`    | Logical NOT | `not(a > 2)`      |\n",
    "\n",
    "---\n",
    "\n",
    "### **5. Bitwise Operators**\n",
    "\n",
    "Operate on binary representations:\n",
    "\n",
    "| Operator | Description      | Example  |     |     |\n",
    "| -------- | ---------------- | -------- | --- | --- |\n",
    "| `&`      | AND              | `a & b`  |     |     |\n",
    "| \\`       | \\`               | OR       | \\`a | b\\` |\n",
    "| `^`      | XOR              | `a ^ b`  |     |     |\n",
    "| `~`      | NOT (complement) | `~a`     |     |     |\n",
    "| `<<`     | Left shift       | `a << 2` |     |     |\n",
    "| `>>`     | Right shift      | `a >> 2` |     |     |\n",
    "\n",
    "---\n",
    "\n",
    "### **6. Membership Operators**\n",
    "\n",
    "Used to test if a value is in a sequence:\n",
    "\n",
    "| Operator | Description  | Example           |\n",
    "| -------- | ------------ | ----------------- |\n",
    "| `in`     | Value in     | `\"a\" in list`     |\n",
    "| `not in` | Value not in | `\"b\" not in list` |\n",
    "\n",
    "---\n",
    "\n",
    "### **7. Identity Operators**\n",
    "\n",
    "Used to compare memory locations:\n",
    "\n",
    "| Operator | Description       | Example      |\n",
    "| -------- | ----------------- | ------------ |\n",
    "| `is`     | Same identity     | `a is b`     |\n",
    "| `is not` | Not same identity | `a is not b` |\n",
    "\n",
    "---"
   ]
  },
  {
   "cell_type": "code",
   "execution_count": 4,
   "id": "681f7618",
   "metadata": {},
   "outputs": [
    {
     "name": "stdout",
     "output_type": "stream",
     "text": [
      "3\n",
      "-1\n",
      "2\n",
      "0.5\n",
      "1\n",
      "0\n"
     ]
    }
   ],
   "source": [
    "# Arithmatic Operator\n",
    "number1 = int(input(\"Enter First Number :- \"))\n",
    "number2 = int(input(\"Enter Second Number :- \"))\n",
    "\n",
    "print(number1 + number2)\n",
    "print(number1 - number2)\n",
    "print(number1 * number2)\n",
    "print(number1 / number2)\n",
    "print(number1 % number2)\n",
    "print(number1 // number2)"
   ]
  },
  {
   "cell_type": "code",
   "execution_count": 5,
   "id": "d6de3971",
   "metadata": {},
   "outputs": [
    {
     "name": "stdout",
     "output_type": "stream",
     "text": [
      "False\n",
      "False\n",
      "False\n",
      "True\n",
      "True\n",
      "True\n"
     ]
    }
   ],
   "source": [
    "# Comaparison Operator\n",
    "number1 = int(input(\"Enter First Number :- \"))\n",
    "number2 = int(input(\"Enter Second Number :- \"))\n",
    "\n",
    "print(number1 == number2)\n",
    "print(number1 > number2)\n",
    "print(number1 >= number2)\n",
    "print(number1 < number2)\n",
    "print(number1 <= number2)\n",
    "print(number1 != number2)"
   ]
  },
  {
   "cell_type": "code",
   "execution_count": 11,
   "id": "01b81da3",
   "metadata": {},
   "outputs": [
    {
     "name": "stdout",
     "output_type": "stream",
     "text": [
      "1\n",
      "10\n",
      "False\n"
     ]
    }
   ],
   "source": [
    "# Logical Operator\n",
    "number1 = int(input(\"Enter First Number :- \"))\n",
    "number2 = int(input(\"Enter Second Number :- \"))\n",
    "\n",
    "print(number1 and number2)\n",
    "print(number1 or number2)\n",
    "print(not number1)"
   ]
  },
  {
   "cell_type": "code",
   "execution_count": 14,
   "id": "6da520da",
   "metadata": {},
   "outputs": [
    {
     "name": "stdout",
     "output_type": "stream",
     "text": [
      "1\n",
      "6\n",
      "0\n",
      "96\n",
      "-4\n"
     ]
    }
   ],
   "source": [
    "# Bitwise Operator\n",
    "number1 = 3\n",
    "number2 = 5\n",
    "\n",
    "print(number1 & number2)\n",
    "print(number1 ^ number2)\n",
    "print(number1 >> number2)\n",
    "print(number1 << number2)\n",
    "print(~ number1)"
   ]
  },
  {
   "cell_type": "code",
   "execution_count": null,
   "id": "abb4b1fa",
   "metadata": {},
   "outputs": [],
   "source": []
  }
 ],
 "metadata": {
  "kernelspec": {
   "display_name": "Python 3",
   "language": "python",
   "name": "python3"
  },
  "language_info": {
   "codemirror_mode": {
    "name": "ipython",
    "version": 3
   },
   "file_extension": ".py",
   "mimetype": "text/x-python",
   "name": "python",
   "nbconvert_exporter": "python",
   "pygments_lexer": "ipython3",
   "version": "3.12.7"
  }
 },
 "nbformat": 4,
 "nbformat_minor": 5
}
