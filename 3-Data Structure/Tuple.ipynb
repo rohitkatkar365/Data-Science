{
 "cells": [
  {
   "cell_type": "markdown",
   "id": "14c9391a",
   "metadata": {},
   "source": [
    "Tuples\n",
    "\n",
    "1. Introduction to Tuples\n",
    "2. Creating Tuples\n",
    "3. Accessing Tuple Elements\n",
    "4. Tuple Operations\n",
    "5. Immutable Nature of Tuples\n",
    "6. Tuple Methods\n",
    "7. Packing and Unpacking Tuples\n",
    "8. Nested Tuples\n",
    "9. Practical Examples and Common Errors\n",
    "\n",
    "\n"
   ]
  },
  {
   "cell_type": "code",
   "execution_count": 1,
   "id": "922e75c3",
   "metadata": {},
   "outputs": [
    {
     "name": "stdout",
     "output_type": "stream",
     "text": [
      "()\n",
      "<class 'tuple'>\n"
     ]
    }
   ],
   "source": [
    "# Introduction to Tuples\n",
    "# Explanation:\n",
    "# Tuples are ordered collections of items that are immutable. They are similar to lists, but their immutability makes them different.\n",
    "\n",
    "# Create a tuple\n",
    "empty_tup = ()\n",
    "print(empty_tup)\n",
    "print(type(empty_tup))"
   ]
  },
  {
   "cell_type": "code",
   "execution_count": 3,
   "id": "dbcee31a",
   "metadata": {},
   "outputs": [
    {
     "name": "stdout",
     "output_type": "stream",
     "text": [
      "(1, 2, 3, 4)\n",
      "<class 'tuple'>\n"
     ]
    }
   ],
   "source": [
    "tup = tuple([1,2,3,4])\n",
    "print(tup)\n",
    "print(type(tup))"
   ]
  },
  {
   "cell_type": "code",
   "execution_count": 4,
   "id": "b76b0bf2",
   "metadata": {},
   "outputs": [
    {
     "name": "stdout",
     "output_type": "stream",
     "text": [
      "(1, 2, 'A', True, 'dnsjn')\n"
     ]
    }
   ],
   "source": [
    "tup1 = (1,2,\"A\",True,\"dnsjn\")\n",
    "print(tup1)"
   ]
  },
  {
   "cell_type": "code",
   "execution_count": 6,
   "id": "b0ce8948",
   "metadata": {},
   "outputs": [
    {
     "name": "stdout",
     "output_type": "stream",
     "text": [
      "1\n",
      "dnsjn\n"
     ]
    }
   ],
   "source": [
    "# Accessing\n",
    "\n",
    "print(tup1[0])\n",
    "print(tup1[-1])"
   ]
  },
  {
   "cell_type": "code",
   "execution_count": 13,
   "id": "1a90cc17",
   "metadata": {},
   "outputs": [
    {
     "name": "stdout",
     "output_type": "stream",
     "text": [
      "(2, 3, 4)\n",
      "(4, 3, 2, 1)\n"
     ]
    }
   ],
   "source": [
    "# Slice\n",
    "print(tup[1:])\n",
    "print(tup[::-1])"
   ]
  },
  {
   "cell_type": "code",
   "execution_count": 11,
   "id": "51a21b03",
   "metadata": {},
   "outputs": [
    {
     "name": "stdout",
     "output_type": "stream",
     "text": [
      "(1, 2, 3, 4, 1, 2, 'A', True, 'dnsjn')\n"
     ]
    }
   ],
   "source": [
    "# Concatentation\n",
    "tup3 = tup + tup1\n",
    "print(tup3)"
   ]
  },
  {
   "cell_type": "code",
   "execution_count": 12,
   "id": "f8fe97b4",
   "metadata": {},
   "outputs": [
    {
     "name": "stdout",
     "output_type": "stream",
     "text": [
      "(1, 2, 3, 4, 1, 2, 'A', True, 'dnsjn', 1, 2, 3, 4, 1, 2, 'A', True, 'dnsjn')\n"
     ]
    }
   ],
   "source": [
    "print(tup3 * 2)"
   ]
  },
  {
   "cell_type": "code",
   "execution_count": 14,
   "id": "7c8d2edc",
   "metadata": {},
   "outputs": [
    {
     "ename": "TypeError",
     "evalue": "'tuple' object does not support item assignment",
     "output_type": "error",
     "traceback": [
      "\u001b[1;31m---------------------------------------------------------------------------\u001b[0m",
      "\u001b[1;31mTypeError\u001b[0m                                 Traceback (most recent call last)",
      "Cell \u001b[1;32mIn[14], line 2\u001b[0m\n\u001b[0;32m      1\u001b[0m \u001b[38;5;66;03m# Immutable\u001b[39;00m\n\u001b[1;32m----> 2\u001b[0m tup3[\u001b[38;5;241m0\u001b[39m] \u001b[38;5;241m=\u001b[39m \u001b[38;5;241m2\u001b[39m\n\u001b[0;32m      3\u001b[0m \u001b[38;5;28mprint\u001b[39m(tup3)\n",
      "\u001b[1;31mTypeError\u001b[0m: 'tuple' object does not support item assignment"
     ]
    }
   ],
   "source": [
    "# Immutable\n",
    "tup3[0] = 2\n",
    "print(tup3)"
   ]
  },
  {
   "cell_type": "code",
   "execution_count": 15,
   "id": "ec3306e0",
   "metadata": {},
   "outputs": [
    {
     "data": {
      "text/plain": [
       "3"
      ]
     },
     "execution_count": 15,
     "metadata": {},
     "output_type": "execute_result"
    }
   ],
   "source": [
    "# Tuple Method\n",
    "\n",
    "tup3.count(1)"
   ]
  },
  {
   "cell_type": "code",
   "execution_count": 16,
   "id": "59afb1d3",
   "metadata": {},
   "outputs": [
    {
     "data": {
      "text/plain": [
       "2"
      ]
     },
     "execution_count": 16,
     "metadata": {},
     "output_type": "execute_result"
    }
   ],
   "source": [
    "tup3.index(3)"
   ]
  },
  {
   "cell_type": "code",
   "execution_count": 20,
   "id": "a0a7d184",
   "metadata": {},
   "outputs": [
    {
     "name": "stdout",
     "output_type": "stream",
     "text": [
      "(1, 2, 3, 4)\n",
      "1 2 3 4\n"
     ]
    }
   ],
   "source": [
    "# Packing and unpacking\n",
    "# Packing\n",
    "tup4 = 1,2,3,4\n",
    "print(tup4)\n",
    "\n",
    "# Unpacking\n",
    "a,b,c,d = tup4\n",
    "print(a,b,c,d)"
   ]
  },
  {
   "cell_type": "code",
   "execution_count": 21,
   "id": "4837812c",
   "metadata": {},
   "outputs": [
    {
     "name": "stdout",
     "output_type": "stream",
     "text": [
      "[1, 2, 3] 4\n"
     ]
    }
   ],
   "source": [
    "# Unpacking with *\n",
    "\n",
    "*dup ,last= tup4\n",
    "print(dup,last)"
   ]
  },
  {
   "cell_type": "code",
   "execution_count": 23,
   "id": "6a485932",
   "metadata": {},
   "outputs": [
    {
     "name": "stdout",
     "output_type": "stream",
     "text": [
      "((1, 2, 3, 4), (5, 6, 7, 8))\n"
     ]
    }
   ],
   "source": [
    "# Nested tuple\n",
    "\n",
    "tup5 = ((1,2,3,4),(5,6,7,8))\n",
    "print(tup5)"
   ]
  },
  {
   "cell_type": "code",
   "execution_count": 24,
   "id": "b26e9638",
   "metadata": {},
   "outputs": [
    {
     "name": "stdout",
     "output_type": "stream",
     "text": [
      "1 2 3 4 \n",
      "5 6 7 8 \n"
     ]
    }
   ],
   "source": [
    "## iterating over nested tuples\n",
    "for sub_tuple in tup5:\n",
    "    for item in sub_tuple:\n",
    "        print(item,end=\" \")\n",
    "    print()"
   ]
  },
  {
   "cell_type": "code",
   "execution_count": null,
   "id": "835754df",
   "metadata": {},
   "outputs": [
    {
     "name": "stdout",
     "output_type": "stream",
     "text": [
      "(1, 2, 3, 4, 5)\n"
     ]
    }
   ],
   "source": [
    "# Take user input\n",
    "tup = ()\n",
    "n = int(input(\"Enter Size Of N :- \"))\n",
    "temp_list = []  \n",
    "\n",
    "for i in range(n):\n",
    "    ele = int(input(\"Enter Element Value:- \"))\n",
    "    temp_list.append(ele)\n",
    "\n",
    "tup = tuple(temp_list)  \n",
    "print(tup)\n"
   ]
  },
  {
   "cell_type": "markdown",
   "id": "e401b13c",
   "metadata": {},
   "source": [
    "Conclusion\n",
    "Tuples are versatile and useful in many real-world scenarios where an immutable and ordered collection of items is required. They are commonly used in data structures, function arguments and return values, and as dictionary keys. Understanding how to leverage tuples effectively can improve the efficiency and readability of your Python code."
   ]
  }
 ],
 "metadata": {
  "kernelspec": {
   "display_name": "base",
   "language": "python",
   "name": "python3"
  },
  "language_info": {
   "codemirror_mode": {
    "name": "ipython",
    "version": 3
   },
   "file_extension": ".py",
   "mimetype": "text/x-python",
   "name": "python",
   "nbconvert_exporter": "python",
   "pygments_lexer": "ipython3",
   "version": "3.12.7"
  }
 },
 "nbformat": 4,
 "nbformat_minor": 5
}
