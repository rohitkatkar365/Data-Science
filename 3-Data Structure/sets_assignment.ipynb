{
 "cells": [
  {
   "cell_type": "markdown",
   "metadata": {},
   "source": [
    "# Module 3: Data Structures Assignments\n",
    "## Lesson 3.3: Sets\n",
    "### Assignment 1: Creating and Accessing Sets\n",
    "\n",
    "Create a set with the first 10 positive integers. Print the set.\n",
    "\n",
    "### Assignment 2: Adding and Removing Elements\n",
    "\n",
    "Add the number 11 to the set created in Assignment 1. Then remove the number 1 from the set. Print the modified set.\n",
    "\n",
    "### Assignment 3: Set Operations\n",
    "\n",
    "Create two sets: one with the first 5 positive integers and another with the first 5 even integers. Perform and print the results of union, intersection, difference, and symmetric difference operations on these sets.\n",
    "\n",
    "### Assignment 4: Set Comprehensions\n",
    "\n",
    "Create a new set containing the squares of the first 10 positive integers using a set comprehension. Print the new set.\n",
    "\n",
    "### Assignment 5: Filtering Sets\n",
    "\n",
    "Create a new set containing only the even numbers from the set created in Assignment 1 using a set comprehension. Print the new set.\n",
    "\n",
    "### Assignment 6: Set Methods\n",
    "\n",
    "Create a set with duplicate elements and remove the duplicates using set methods. Print the modified set.\n",
    "\n",
    "### Assignment 7: Subsets and Supersets\n",
    "\n",
    "Create two sets: one with the first 5 positive integers and another with the first 3 positive integers. Check if the second set is a subset of the first set and if the first set is a superset of the second set. Print the results.\n",
    "\n",
    "### Assignment 8: Frozenset\n",
    "\n",
    "Create a frozenset with the first 5 positive integers. Print the frozenset.\n",
    "\n",
    "### Assignment 9: Set and List Conversion\n",
    "\n",
    "Create a set with the first 5 positive integers. Convert it to a list, append the number 6, and convert it back to a set. Print the resulting set.\n",
    "\n",
    "### Assignment 10: Set and Dictionary\n",
    "\n",
    "Create a dictionary with set keys and integer values. Print the dictionary.\n",
    "\n",
    "### Assignment 11: Removing Elements from Sets\n",
    "\n",
    "Create a set and remove elements from it until it is empty. Print the set after each removal.\n",
    "\n",
    "### Assignment 12: Set Symmetric Difference Update\n",
    "\n",
    "Create two sets and update the first set with the symmetric difference of the two sets. Print the modified first set.\n",
    "\n",
    "### Assignment 13: Set Membership Testing\n",
    "\n",
    "Create a set and test if certain elements are present in the set. Print the results.\n",
    "\n",
    "### Assignment 14: Set of Tuples\n",
    "\n",
    "Create a set containing tuples, where each tuple contains two elements. Print the set."
   ]
  },
  {
   "cell_type": "code",
   "execution_count": 1,
   "metadata": {},
   "outputs": [
    {
     "name": "stdout",
     "output_type": "stream",
     "text": [
      "{1, 2, 3, 4, 5, 6, 7, 8, 9, 10}\n"
     ]
    }
   ],
   "source": [
    "### Assignment 1: Creating and Accessing Sets\n",
    "\n",
    "# Create a set with the first 10 positive integers. Print the set.\n",
    "\n",
    "s1 = set([i for i in range(1,11)])\n",
    "print(s1)"
   ]
  },
  {
   "cell_type": "code",
   "execution_count": 2,
   "id": "583d3121",
   "metadata": {},
   "outputs": [
    {
     "name": "stdout",
     "output_type": "stream",
     "text": [
      "{2, 3, 4, 5, 6, 7, 8, 9, 10, 11}\n"
     ]
    }
   ],
   "source": [
    "### Assignment 2: Adding and Removing Elements\n",
    "\n",
    "# Add the number 11 to the set created in Assignment 1. Then remove the number 1 from the set. Print the modified set.\n",
    "\n",
    "s1.add(11)\n",
    "s1.remove(1)\n",
    "print(s1)"
   ]
  },
  {
   "cell_type": "code",
   "execution_count": 4,
   "id": "dc53caa0",
   "metadata": {},
   "outputs": [
    {
     "name": "stdout",
     "output_type": "stream",
     "text": [
      "{1, 2, 3, 4, 5}\n",
      "{2, 4, 6, 8, 10}\n",
      "{1, 2, 3, 4, 5, 6, 8, 10}\n",
      "{2, 4}\n",
      "{1, 3, 5}\n",
      "{1, 3, 5, 6, 8, 10}\n"
     ]
    }
   ],
   "source": [
    "### Assignment 3: Set Operations\n",
    "\n",
    "# Create two sets: one with the first 5 positive integers and another with the first 5 even integers. Perform and print the results of union, intersection, difference, and symmetric difference operations on these sets.\n",
    "s2 = set([i for i in range(1,6)])\n",
    "s3 = set([i for i in range(2,11,2)])\n",
    "\n",
    "print(s2)\n",
    "print(s3)\n",
    "\n",
    "uni = s2.union(s3)\n",
    "intersec = s2.intersection(s3)\n",
    "diff = s2.difference(s3)\n",
    "symmetric_diff = s2.symmetric_difference(s3)\n",
    "\n",
    "print(uni)\n",
    "print(intersec)\n",
    "print(diff)\n",
    "print(symmetric_diff)"
   ]
  },
  {
   "cell_type": "code",
   "execution_count": 5,
   "id": "de2eba12",
   "metadata": {},
   "outputs": [
    {
     "name": "stdout",
     "output_type": "stream",
     "text": [
      "{1, 2, 3, 4, 5, 6, 7, 8, 9, 10}\n"
     ]
    }
   ],
   "source": [
    "### Assignment 4: Set Comprehensions\n",
    "\n",
    "# Create a new set containing the squares of the first 10 positive integers using a set comprehension. Print the new set.\n",
    "\n",
    "s4 = {i for i in range(1,11)}\n",
    "print(s4)"
   ]
  },
  {
   "cell_type": "code",
   "execution_count": 6,
   "id": "af225959",
   "metadata": {},
   "outputs": [
    {
     "name": "stdout",
     "output_type": "stream",
     "text": [
      "{2, 4, 6, 8, 10}\n"
     ]
    }
   ],
   "source": [
    "### Assignment 5: Filtering Sets\n",
    "\n",
    "# Create a new set containing only the even numbers from the set created in Assignment 1 using a set comprehension. Print the new set.\n",
    "s5 = {i for i in s1 if i % 2 == 0}\n",
    "print(s5)"
   ]
  },
  {
   "cell_type": "code",
   "execution_count": 10,
   "id": "f78088a5",
   "metadata": {},
   "outputs": [
    {
     "name": "stdout",
     "output_type": "stream",
     "text": [
      "{1, 2, 3, 4, 5, 7, 8}\n",
      "{1, 2, 3, 4, 5, 7, 8}\n"
     ]
    }
   ],
   "source": [
    "### Assignment 6: Set Methods\n",
    "\n",
    "# Create a set with duplicate elements and remove the duplicates using set methods. Print the modified set.\n",
    "s6 = {1,2,3,4,1,2,4,2,1,5,7,7,8}\n",
    "print(s6)\n",
    "s6 = set(s6)\n",
    "print(s6)"
   ]
  },
  {
   "cell_type": "code",
   "execution_count": 11,
   "id": "9a6fd4fc",
   "metadata": {},
   "outputs": [
    {
     "name": "stdout",
     "output_type": "stream",
     "text": [
      "False\n",
      "True\n"
     ]
    }
   ],
   "source": [
    "### Assignment 7: Subsets and Supersets\n",
    "\n",
    "# Create two sets: one with the first 5 positive integers and another with the first 3 positive integers. Check if the second set is a subset of the first set and if the first set is a superset of the second set. Print the results.\n",
    "s7 = {i for i in range(1,6)}\n",
    "s8 = {i for i in range(1,4)}\n",
    "\n",
    "print(s7.issubset(s8))\n",
    "print(s7.issuperset(s8))"
   ]
  },
  {
   "cell_type": "code",
   "execution_count": 12,
   "id": "4b9f28be",
   "metadata": {},
   "outputs": [
    {
     "name": "stdout",
     "output_type": "stream",
     "text": [
      "frozenset({1, 2, 3, 4, 5})\n"
     ]
    }
   ],
   "source": [
    "### Assignment 8: Frozenset\n",
    "\n",
    "# Create a frozenset with the first 5 positive integers. Print the frozenset.\n",
    "\n",
    "s9 = frozenset([1,2,3,4,5])\n",
    "print(s9)"
   ]
  },
  {
   "cell_type": "code",
   "execution_count": 13,
   "id": "ec1cb457",
   "metadata": {},
   "outputs": [
    {
     "name": "stdout",
     "output_type": "stream",
     "text": [
      "{1, 2, 3, 4, 5, 6}\n"
     ]
    }
   ],
   "source": [
    "### Assignment 9: Set and List Conversion\n",
    "\n",
    "# Create a set with the first 5 positive integers. Convert it to a list, append the number 6, and convert it back to a set. Print the resulting set.\n",
    "\n",
    "s10 = {1,2,3,4,5}\n",
    "s10 = list(s10)\n",
    "s10.append(6)\n",
    "s10 = set(s10)\n",
    "print(s10)"
   ]
  },
  {
   "cell_type": "code",
   "execution_count": 14,
   "id": "1e75bbbf",
   "metadata": {},
   "outputs": [
    {
     "name": "stdout",
     "output_type": "stream",
     "text": [
      "{1, 2, 3}: 10\n",
      "{4, 5}: 20\n",
      "{1, 2}: 30\n"
     ]
    }
   ],
   "source": [
    "### Assignment 10: Set and Dictionary\n",
    "\n",
    "# Create a dictionary with set keys and integer values. Print the dictionary.\n",
    "d = {\n",
    "    frozenset([1, 2, 3]): 10,\n",
    "    frozenset([4, 5]): 20,\n",
    "    frozenset([1, 2]): 30\n",
    "}\n",
    "\n",
    "# Print the dictionary\n",
    "for key, value in d.items():\n",
    "    print(f\"{set(key)}: {value}\")"
   ]
  },
  {
   "cell_type": "code",
   "execution_count": 15,
   "id": "bfa9735f",
   "metadata": {},
   "outputs": [
    {
     "name": "stdout",
     "output_type": "stream",
     "text": [
      "Removed : 1, Set now : {2, 3, 4, 5, 6, 7}\n",
      "Removed : 2, Set now : {3, 4, 5, 6, 7}\n",
      "Removed : 3, Set now : {4, 5, 6, 7}\n",
      "Removed : 4, Set now : {5, 6, 7}\n",
      "Removed : 5, Set now : {6, 7}\n",
      "Removed : 6, Set now : {7}\n",
      "Removed : 7, Set now : set()\n"
     ]
    }
   ],
   "source": [
    "### Assignment 11: Removing Elements from Sets\n",
    "\n",
    "# Create a set and remove elements from it until it is empty. Print the set after each removal.\n",
    "\n",
    "s12 = {1,2,3,4,5,6,7}\n",
    "\n",
    "while s12:\n",
    "    rem = s12.pop()\n",
    "    print(f\"Removed : {rem}, Set now : {s12}\")"
   ]
  },
  {
   "cell_type": "code",
   "execution_count": 3,
   "id": "5bc70c4d",
   "metadata": {},
   "outputs": [
    {
     "name": "stdout",
     "output_type": "stream",
     "text": [
      "{0, 1, 3, 5, 7, 8, 9, 14, 63}\n"
     ]
    }
   ],
   "source": [
    "### Assignment 12: Set Symmetric Difference Update\n",
    "\n",
    "# Create two sets and update the first set with the symmetric difference of the two sets. Print the modified first set.\n",
    "s13 = {1,2,3,4,5,1,2,3,6,7}\n",
    "s14 = {8,9,6,0,4,2,14,63,2}\n",
    "\n",
    "s13.symmetric_difference_update(s14)\n",
    "print(s13)"
   ]
  },
  {
   "cell_type": "code",
   "execution_count": 4,
   "id": "9e23ac66",
   "metadata": {},
   "outputs": [
    {
     "name": "stdout",
     "output_type": "stream",
     "text": [
      "False\n"
     ]
    }
   ],
   "source": [
    "### Assignment 13: Set Membership Testing\n",
    "\n",
    "# Create a set and test if certain elements are present in the set. Print the results.\n",
    "\n",
    "print(2 in s13)"
   ]
  },
  {
   "cell_type": "code",
   "execution_count": 6,
   "id": "6fff6c42",
   "metadata": {},
   "outputs": [
    {
     "name": "stdout",
     "output_type": "stream",
     "text": [
      "{(1, 2), (3, 4), (7, 8), (5, 6)}\n"
     ]
    }
   ],
   "source": [
    "### Assignment 14: Set of Tuples\n",
    "\n",
    "# Create a set containing tuples, where each tuple contains two elements. Print the set.\n",
    "tuple_set = {(1, 2), (3, 4), (5, 6), (7, 8)}\n",
    "print(tuple_set)"
   ]
  }
 ],
 "metadata": {
  "kernelspec": {
   "display_name": "base",
   "language": "python",
   "name": "python3"
  },
  "language_info": {
   "codemirror_mode": {
    "name": "ipython",
    "version": 3
   },
   "file_extension": ".py",
   "mimetype": "text/x-python",
   "name": "python",
   "nbconvert_exporter": "python",
   "pygments_lexer": "ipython3",
   "version": "3.12.7"
  }
 },
 "nbformat": 4,
 "nbformat_minor": 5
}
