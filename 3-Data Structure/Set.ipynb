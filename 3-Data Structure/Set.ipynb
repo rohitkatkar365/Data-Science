{
 "cells": [
  {
   "cell_type": "markdown",
   "id": "09ed19b9",
   "metadata": {},
   "source": [
    "Sets\n",
    "\n",
    "Sets are a built-in data type in Python used to store collections of unique items. They are unordered, meaning that the elements do not follow a specific order, and they do not allow duplicate elements. Sets are useful for membership tests, eliminating duplicate entries, and performing mathematical set operations like union, intersection, difference, and symmetric difference."
   ]
  },
  {
   "cell_type": "code",
   "execution_count": 2,
   "id": "e8906df0",
   "metadata": {},
   "outputs": [
    {
     "name": "stdout",
     "output_type": "stream",
     "text": [
      "{1, 2, 3, 4}\n",
      "<class 'set'>\n"
     ]
    }
   ],
   "source": [
    "# Create Set\n",
    "\n",
    "s1 = {1,2,3,4}\n",
    "print(s1)\n",
    "print(type(s1))"
   ]
  },
  {
   "cell_type": "code",
   "execution_count": 4,
   "id": "9a33acec",
   "metadata": {},
   "outputs": [
    {
     "name": "stdout",
     "output_type": "stream",
     "text": [
      "<class 'set'>\n"
     ]
    }
   ],
   "source": [
    "# Empty set\n",
    "s2 = set()\n",
    "print(type(s2))"
   ]
  },
  {
   "cell_type": "code",
   "execution_count": 12,
   "id": "4cf06661",
   "metadata": {},
   "outputs": [
    {
     "name": "stdout",
     "output_type": "stream",
     "text": [
      "{1, 2}\n",
      "{2}\n",
      "{2}\n"
     ]
    }
   ],
   "source": [
    "## Basics Sets Operation\n",
    "## Adiing and Removing Elements\n",
    "s2.add(1)\n",
    "s2.add(2)\n",
    "print(s2)\n",
    "# REmove\n",
    "s2.remove(1)\n",
    "print(s2)\n",
    "\n",
    "# s2.remove(3)  # KeyError: 3\n",
    "\n",
    "s2.discard(3)\n",
    "print(s2)\n"
   ]
  },
  {
   "cell_type": "code",
   "execution_count": 13,
   "id": "0572b0f7",
   "metadata": {},
   "outputs": [
    {
     "name": "stdout",
     "output_type": "stream",
     "text": [
      "set()\n"
     ]
    }
   ],
   "source": [
    "# Pop method\n",
    "s2.pop()\n",
    "print(s2)"
   ]
  },
  {
   "cell_type": "code",
   "execution_count": 14,
   "id": "42e9b622",
   "metadata": {},
   "outputs": [],
   "source": [
    "# Delete all element\n",
    "s2.clear()"
   ]
  },
  {
   "cell_type": "code",
   "execution_count": 16,
   "id": "61fd2c8b",
   "metadata": {},
   "outputs": [
    {
     "name": "stdout",
     "output_type": "stream",
     "text": [
      "True\n",
      "True\n"
     ]
    }
   ],
   "source": [
    "# Set membership\n",
    "my_set = {1,2,3,4,5}\n",
    "\n",
    "print(3 in my_set)\n",
    "print(7 not in my_set)"
   ]
  },
  {
   "cell_type": "code",
   "execution_count": 19,
   "id": "32aa5915",
   "metadata": {},
   "outputs": [
    {
     "name": "stdout",
     "output_type": "stream",
     "text": [
      "{1, 2, 3, 4, 5, 6, 7, 8, 9}\n",
      "{4, 5, 6}\n"
     ]
    }
   ],
   "source": [
    "## MAthematical Operation\n",
    "set1={1,2,3,4,5,6}\n",
    "set2={4,5,6,7,8,9}\n",
    "\n",
    "# Union\n",
    "union = set1.union(set2)\n",
    "print(union)\n",
    "\n",
    "# Intersection\n",
    "intersection = set1.intersection(set2)\n",
    "print(intersection)"
   ]
  },
  {
   "cell_type": "code",
   "execution_count": 21,
   "id": "ca766fb7",
   "metadata": {},
   "outputs": [
    {
     "name": "stdout",
     "output_type": "stream",
     "text": [
      "{1, 2, 3}\n",
      "{1, 2, 3, 7, 8, 9}\n"
     ]
    }
   ],
   "source": [
    "set1={1,2,3,4,5,6}\n",
    "set2={4,5,6,7,8,9}\n",
    "\n",
    "# Set difference\n",
    "diff = set1.difference(set2)\n",
    "print(diff)\n",
    "\n",
    "# Symmetric difference\n",
    "print(set1.symmetric_difference(set2))"
   ]
  },
  {
   "cell_type": "code",
   "execution_count": 24,
   "id": "6545c6fa",
   "metadata": {},
   "outputs": [
    {
     "name": "stdout",
     "output_type": "stream",
     "text": [
      "True\n",
      "False\n"
     ]
    }
   ],
   "source": [
    "## Sets Methods\n",
    "set1={1,2,3,4,5}\n",
    "set2={3,4,5}\n",
    "\n",
    "## is subset\n",
    "print(set2.issubset(set1))\n",
    "\n",
    "print(set2.issuperset(set1))"
   ]
  },
  {
   "cell_type": "code",
   "execution_count": 26,
   "id": "73c14336",
   "metadata": {},
   "outputs": [
    {
     "name": "stdout",
     "output_type": "stream",
     "text": [
      "{'this', 'discussing', 'about', 'tutorial', 'sets', 'we', 'In', 'are'}\n",
      "8\n"
     ]
    }
   ],
   "source": [
    "### Counting Unique words in text\n",
    "\n",
    "text=\"In this tutorial we are discussing about sets\"\n",
    "words = text.split()\n",
    "\n",
    "unique_word = set(words)\n",
    "print(unique_word)\n",
    "print(len(unique_word))"
   ]
  },
  {
   "cell_type": "markdown",
   "id": "126b20a5",
   "metadata": {},
   "source": [
    "Conclusion\n",
    "\n",
    "Sets are a powerful and flexible data type in Python that provide a way to store collections of unique elements. They support various operations such as union, intersection, difference, and symmetric difference, which are useful for mathematical computations. Understanding how to use sets and their associated methods can help you write more efficient and clean Python code, especially when dealing with unique collections and membership tests."
   ]
  },
  {
   "cell_type": "code",
   "execution_count": 27,
   "id": "0997e555",
   "metadata": {},
   "outputs": [
    {
     "name": "stdout",
     "output_type": "stream",
     "text": [
      "{1, 2, 3}\n"
     ]
    }
   ],
   "source": [
    "# User Input\n",
    "s3 = set()\n",
    "n = int(input(\"Enter Size Of Set :-\"))\n",
    "for i in range(n):\n",
    "    ele = int(input(\"Enter Value Of Ele :- \"))\n",
    "    s3.add(ele)\n",
    "\n",
    "print(s3)"
   ]
  }
 ],
 "metadata": {
  "kernelspec": {
   "display_name": "base",
   "language": "python",
   "name": "python3"
  },
  "language_info": {
   "codemirror_mode": {
    "name": "ipython",
    "version": 3
   },
   "file_extension": ".py",
   "mimetype": "text/x-python",
   "name": "python",
   "nbconvert_exporter": "python",
   "pygments_lexer": "ipython3",
   "version": "3.12.7"
  }
 },
 "nbformat": 4,
 "nbformat_minor": 5
}
