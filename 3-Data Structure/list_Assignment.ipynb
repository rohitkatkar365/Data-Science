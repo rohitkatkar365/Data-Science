{
 "cells": [
  {
   "cell_type": "markdown",
   "metadata": {},
   "source": [
    "# Module 3: Data Structures Assignments\n",
    "## Lesson 3.1: Lists\n",
    "### Assignment 1: Creating and Accessing Lists\n",
    "\n",
    "Create a list of the first 20 positive integers. Print the list.\n",
    "\n",
    "### Assignment 2: Accessing List Elements\n",
    "\n",
    "Print the first, middle, and last elements of the list created in Assignment 1.\n",
    "\n",
    "### Assignment 3: List Slicing\n",
    "\n",
    "Print the first five elements, the last five elements, and the elements from index 5 to 15 of the list created in Assignment 1.\n",
    "\n",
    "### Assignment 4: List Comprehensions\n",
    "\n",
    "Create a new list containing the squares of the first 10 positive integers using a list comprehension. Print the new list.\n",
    "\n",
    "### Assignment 5: Filtering Lists\n",
    "\n",
    "Create a new list containing only the even numbers from the list created in Assignment 1 using a list comprehension. Print the new list.\n",
    "\n",
    "### Assignment 6: List Methods\n",
    "\n",
    "Create a list of random numbers and sort it in ascending and descending order. Remove the duplicates from the list and print the modified list.\n",
    "\n",
    "### Assignment 7: Nested Lists\n",
    "\n",
    "Create a nested list representing a 3x3 matrix and print the matrix. Access and print the element at the second row and third column.\n",
    "\n",
    "### Assignment 8: List of Dictionaries\n",
    "\n",
    "Create a list of dictionaries where each dictionary represents a student with keys 'name' and 'score'. Sort the list of dictionaries by the 'score' in descending order and print the sorted list.\n",
    "\n",
    "### Assignment 9: Matrix Transposition\n",
    "\n",
    "Write a function that takes a 3x3 matrix (nested list) as input and returns its transpose. Print the original and transposed matrices.\n",
    "\n",
    "### Assignment 10: Flattening a Nested List\n",
    "\n",
    "Write a function that takes a nested list and flattens it into a single list. Print the original and flattened lists.\n",
    "\n",
    "### Assignment 11: List Manipulation\n",
    "\n",
    "Create a list of the first 10 positive integers. Remove the elements at indices 2, 4, and 6, and insert the element '99' at index 5. Print the modified list.\n",
    "\n",
    "### Assignment 12: List Zipping\n",
    "\n",
    "Create two lists of the same length. Use the `zip` function to combine these lists into a list of tuples and print the result.\n",
    "\n",
    "### Assignment 13: List Reversal\n",
    "\n",
    "Write a function that takes a list and returns a new list with the elements in reverse order. Print the original and reversed lists.\n",
    "\n",
    "### Assignment 14: List Rotation\n",
    "\n",
    "Write a function that rotates a list by n positions. Print the original and rotated lists.\n",
    "\n",
    "### Assignment 15: List Intersection\n",
    "\n",
    "Write a function that takes two lists and returns a new list containing only the elements that are present in both lists. Print the intersected list."
   ]
  },
  {
   "cell_type": "code",
   "execution_count": 2,
   "id": "ea29aac9",
   "metadata": {},
   "outputs": [
    {
     "name": "stdout",
     "output_type": "stream",
     "text": [
      "[1, 2, 3, 4, 5, 6, 7, 8, 9, 10, 11, 12, 13, 14, 15, 16, 17, 18, 19, 20]\n"
     ]
    }
   ],
   "source": [
    "### Assignment 1: Creating and Accessing Lists\n",
    "\n",
    "# Create a list of the first 20 positive integers. Print the list.\n",
    "\n",
    "li = list(range(1,21))\n",
    "print(li)\n"
   ]
  },
  {
   "cell_type": "code",
   "execution_count": 6,
   "metadata": {},
   "outputs": [
    {
     "name": "stdout",
     "output_type": "stream",
     "text": [
      "1\n",
      "10\n",
      "20\n"
     ]
    }
   ],
   "source": [
    "### Assignment 2: Accessing List Elements\n",
    "\n",
    "# Print the first, middle, and last elements of the list created in Assignment 1.\n",
    "print(li[0])\n",
    "print(li[len(li)//2-1])\n",
    "print(li[len(li)-1])"
   ]
  },
  {
   "cell_type": "code",
   "execution_count": 12,
   "id": "9e8de00e",
   "metadata": {},
   "outputs": [
    {
     "name": "stdout",
     "output_type": "stream",
     "text": [
      "[1, 2, 3, 4, 5]\n",
      "[16, 17, 18, 19, 20]\n",
      "[6, 7, 8, 9, 10, 11, 12, 13, 14, 15]\n"
     ]
    }
   ],
   "source": [
    "### Assignment 3: List Slicing\n",
    "\n",
    "# Print the first five elements, the last five elements, and the elements from index 5 to 15 of the list created in Assignment 1.\n",
    "print(li[:5])\n",
    "print(li[-5:])\n",
    "print(li[5:15])"
   ]
  },
  {
   "cell_type": "code",
   "execution_count": 13,
   "id": "b3d313ce",
   "metadata": {},
   "outputs": [
    {
     "name": "stdout",
     "output_type": "stream",
     "text": [
      "[1, 4, 9, 16, 25, 36, 49, 64, 81, 100]\n"
     ]
    }
   ],
   "source": [
    "### Assignment 4: List Comprehensions\n",
    "\n",
    "# Create a new list containing the squares of the first 10 positive integers using a list comprehension. Print the new list.\n",
    "\n",
    "li1 = [x**2 for x in range(1,11)]\n",
    "print(li1)"
   ]
  },
  {
   "cell_type": "code",
   "execution_count": 14,
   "id": "d96bac01",
   "metadata": {},
   "outputs": [
    {
     "name": "stdout",
     "output_type": "stream",
     "text": [
      "[2, 4, 6, 8, 10, 12, 14, 16, 18, 20]\n"
     ]
    }
   ],
   "source": [
    "### Assignment 5: Filtering Lists\n",
    "\n",
    "# Create a new list containing only the even numbers from the list created in Assignment 1 using a list comprehension. Print the new list.\n",
    "li2 = [x for x in li if x % 2 == 0]\n",
    "print(li2)"
   ]
  },
  {
   "cell_type": "code",
   "execution_count": 18,
   "id": "6d3422df",
   "metadata": {},
   "outputs": [
    {
     "name": "stdout",
     "output_type": "stream",
     "text": [
      "Original List :-  [43, 37, 69, 89, 87, 78, 81, 6, 6, 91, 17, 20, 50, 97, 17, 15, 86, 91, 39, 95]\n",
      "List Without Duplicate :-  [97, 69, 37, 6, 39, 43, 78, 15, 81, 17, 50, 20, 86, 87, 89, 91, 95]\n",
      "Ascending Order :-  [6, 15, 17, 20, 37, 39, 43, 50, 69, 78, 81, 86, 87, 89, 91, 95, 97]\n",
      "Descending Order :-  [97, 95, 91, 89, 87, 86, 81, 78, 69, 50, 43, 39, 37, 20, 17, 15, 6]\n"
     ]
    }
   ],
   "source": [
    "### Assignment 6: List Methods\n",
    "\n",
    "# Create a list of random numbers and sort it in ascending and descending order. Remove the duplicates from the list and print the modified list.\n",
    "import random\n",
    "\n",
    "li3 = [random.randint(1,100) for _ in range(20)]\n",
    "print(\"Original List :- \",li3)\n",
    "\n",
    "# Remove Duplicate\n",
    "li3 = list(set(li3))\n",
    "print(\"List Without Duplicate :- \",li3)\n",
    "\n",
    "# Sort By Ascending Order\n",
    "li3.sort()\n",
    "print(\"Ascending Order :- \",li3)\n",
    "\n",
    "# SOrt By escending Order\n",
    "li3.sort(reverse=True)\n",
    "print(\"Descending Order :- \",li3)"
   ]
  },
  {
   "cell_type": "code",
   "execution_count": null,
   "id": "231d7f0d",
   "metadata": {},
   "outputs": [
    {
     "name": "stdout",
     "output_type": "stream",
     "text": [
      "[1, 2, 3]\n",
      "[4, 5, 6]\n",
      "[7, 8, 9]\n",
      "Element at second row, third column: 6\n"
     ]
    }
   ],
   "source": [
    "### Assignment 7: Nested Lists\n",
    "\n",
    "# Create a nested list representing a 3x3 matrix and print the matrix. Access and print the element at the second row and third column.\n",
    "\n",
    "# Create a nested list representing a 3x3 matrix\n",
    "matrix = [\n",
    "    [1, 2, 3],\n",
    "    [4, 5, 6], \n",
    "    [7, 8, 9]\n",
    "]\n",
    "\n",
    "# Print the matrix\n",
    "for row in matrix:\n",
    "    print(row)\n",
    "\n",
    "# Access and print the element at the second row and third column (indexing starts at 0)\n",
    "print(\"Element at second row, third column:\", matrix[1][2])"
   ]
  },
  {
   "cell_type": "code",
   "execution_count": 22,
   "id": "c43f92a7",
   "metadata": {},
   "outputs": [
    {
     "name": "stdout",
     "output_type": "stream",
     "text": [
      "[{'name': 'David', 'score': 92}, {'name': 'Bob', 'score': 90}, {'name': 'Eve', 'score': 88}, {'name': 'Alice', 'score': 85}, {'name': 'Charlie', 'score': 78}]\n"
     ]
    }
   ],
   "source": [
    "### Assignment 8: List of Dictionaries\n",
    "\n",
    "# Create a list of dictionaries where each dictionary represents a student with keys 'name' and 'score'. Sort the list of dictionaries by the \n",
    "# 'score' in descending order and print the sorted list.\n",
    "from operator import itemgetter\n",
    "\n",
    "students = [\n",
    "    {\"name\": \"Alice\", \"score\": 85},\n",
    "    {\"name\": \"Bob\", \"score\": 90},\n",
    "    {\"name\": \"Charlie\", \"score\": 78},\n",
    "    {\"name\": \"David\", \"score\": 92},\n",
    "    {\"name\": \"Eve\", \"score\": 88}\n",
    "]\n",
    "\n",
    "stu_sorted = sorted(students,key=itemgetter(\"score\"),reverse=True)\n",
    "print(stu_sorted)"
   ]
  },
  {
   "cell_type": "code",
   "execution_count": 23,
   "id": "10cc8c0f",
   "metadata": {},
   "outputs": [
    {
     "name": "stdout",
     "output_type": "stream",
     "text": [
      "[[1, 4, 7], [2, 5, 8], [3, 6, 9]]\n"
     ]
    }
   ],
   "source": [
    "### Assignment 9: Matrix Transposition\n",
    "\n",
    "# Write a function that takes a 3x3 matrix (nested list) as input and returns its transpose. Print the original and transposed matrices.\n",
    "\n",
    "matrix = [\n",
    "    [1, 2, 3],\n",
    "    [4, 5, 6], \n",
    "    [7, 8, 9]\n",
    "]\n",
    "\n",
    "matrix = [[matrix[j][i] for j in range(3)] for i in range(3)]\n",
    "print(matrix)\n"
   ]
  },
  {
   "cell_type": "code",
   "execution_count": 8,
   "id": "a891dadc",
   "metadata": {},
   "outputs": [
    {
     "name": "stdout",
     "output_type": "stream",
     "text": [
      "[1, 2, 3, 4, 5, 6, 7, 8, 9]\n",
      "[[1, 2, 3], [4, 5, 6], [7, 8, 9]]\n"
     ]
    }
   ],
   "source": [
    "### Assignment 10: Flattening a Nested List\n",
    "\n",
    "# Write a function that takes a nested list and flattens it into a single list. Print the original and flattened lists.\n",
    "def flatten_li(li):\n",
    "    flatten = [i for sublist in li for i in sublist]\n",
    "    print(flatten)\n",
    "\n",
    "matrix = [\n",
    "    [1, 2, 3],\n",
    "    [4, 5, 6], \n",
    "    [7, 8, 9]\n",
    "]\n",
    "flatten_li(matrix)"
   ]
  },
  {
   "cell_type": "code",
   "execution_count": 14,
   "id": "97b1c5e1",
   "metadata": {},
   "outputs": [
    {
     "name": "stdout",
     "output_type": "stream",
     "text": [
      "Original List :-  [1, 2, 3, 4, 5, 6, 7, 8, 9, 10]\n",
      "[1, 2, 4, 5, 7, 8, 10]\n",
      "Updated List :- [1, 2, 4, 5, 7, 99, 8, 10]\n"
     ]
    }
   ],
   "source": [
    "# ### Assignment 11: List Manipulation\n",
    "\n",
    "# Create a list of the first 10 positive integers. Remove the elements at indices 2, 4, and 6, and insert the element '99' at index 5.\n",
    "#  Print the modified list.\n",
    "\n",
    "li = [i for i in range(1,11)]\n",
    "print(\"Original List :- \",li)\n",
    "\n",
    "li.pop(2)\n",
    "li.pop(4)\n",
    "li.pop(6)\n",
    "print(li)\n",
    "\n",
    "li.insert(5,99)\n",
    "print(\"Updated List :-\",li)"
   ]
  },
  {
   "cell_type": "code",
   "execution_count": 16,
   "id": "9c904e20",
   "metadata": {},
   "outputs": [
    {
     "name": "stdout",
     "output_type": "stream",
     "text": [
      "[(1, 6), (2, 7), (3, 8), (4, 9), (5, 10)]\n"
     ]
    }
   ],
   "source": [
    "### Assignment 12: List Zipping\n",
    "\n",
    "# Create two lists of the same length. Use the `zip` function to combine these lists into a list of tuples and print the result.\n",
    "li1 = [1,2,3,4,5]\n",
    "li2 = [6,7,8,9,10]\n",
    "\n",
    "li3 = list(zip(li1,li2))\n",
    "print(li3)"
   ]
  },
  {
   "cell_type": "code",
   "execution_count": 17,
   "id": "c7bd9412",
   "metadata": {},
   "outputs": [
    {
     "name": "stdout",
     "output_type": "stream",
     "text": [
      "[5, 4, 3, 2, 1]\n"
     ]
    }
   ],
   "source": [
    "### Assignment 13: List Reversal\n",
    "\n",
    "# Write a function that takes a list and returns a new list with the elements in reverse order. Print the original and reversed lists.\n",
    "\n",
    "def rev(li):\n",
    "    s = 0\n",
    "    e = len(li) - 1\n",
    "    while s < e:\n",
    "        li[s],li[e] = li[e],li[s]\n",
    "        s+=1\n",
    "        e-=1\n",
    "    return li\n",
    "\n",
    "li = [1,2,3,4,5]\n",
    "print(rev(li))"
   ]
  },
  {
   "cell_type": "code",
   "execution_count": 22,
   "id": "f28e4160",
   "metadata": {},
   "outputs": [
    {
     "name": "stdout",
     "output_type": "stream",
     "text": [
      "Original List: [1, 2, 3, 4]\n",
      "Rotated List: [3, 4, 1, 2]\n"
     ]
    }
   ],
   "source": [
    "### Assignment 14: List Rotation\n",
    "\n",
    "# Write a function that rotates a list by n positions. Print the original and rotated lists.\n",
    "def rotate(li, n):\n",
    "    n = n % len(li)\n",
    "    return li[n:] + li[:n]\n",
    "\n",
    "li = [1, 2, 3, 4]\n",
    "rotated = rotate(li, 2)\n",
    "print(\"Original List:\", li)\n",
    "print(\"Rotated List:\", rotated)\n",
    "\n",
    "    "
   ]
  },
  {
   "cell_type": "code",
   "execution_count": 25,
   "id": "03cf2ae0",
   "metadata": {},
   "outputs": [
    {
     "name": "stdout",
     "output_type": "stream",
     "text": [
      "[1, 2, 4]\n"
     ]
    }
   ],
   "source": [
    "### Assignment 15: List Intersection\n",
    "\n",
    "# Write a function that takes two lists and returns a new list containing only the elements that are present in both lists. Print the intersected list.\n",
    "li1 = [1,2,1,4,2]\n",
    "li2 = [2,3,4,1]\n",
    "\n",
    "li3 = list(set(li1) & set(li2))\n",
    "print(li3)"
   ]
  }
 ],
 "metadata": {
  "kernelspec": {
   "display_name": "base",
   "language": "python",
   "name": "python3"
  },
  "language_info": {
   "codemirror_mode": {
    "name": "ipython",
    "version": 3
   },
   "file_extension": ".py",
   "mimetype": "text/x-python",
   "name": "python",
   "nbconvert_exporter": "python",
   "pygments_lexer": "ipython3",
   "version": "3.12.7"
  }
 },
 "nbformat": 4,
 "nbformat_minor": 5
}
