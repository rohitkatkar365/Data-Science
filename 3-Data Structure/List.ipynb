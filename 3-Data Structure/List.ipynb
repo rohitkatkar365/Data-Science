{
 "cells": [
  {
   "cell_type": "markdown",
   "id": "3a6403bf",
   "metadata": {},
   "source": [
    "Introduction To Lists\n",
    "1. Lists are ordered, mutable collections of items.\n",
    "2. They can contain items of different data types.\n",
    "\n",
    "Outline:\n",
    "1. Introduction to Lists\n",
    "2. Creating Lists\n",
    "3. Accessing List Elements\n",
    "4. Modifying List Elements\n",
    "5. List Methods\n",
    "6. Slicing Lists\n",
    "7. Iterating Over Lists\n",
    "8. List Comprehensions\n",
    "9. Nested Lists\n",
    "10. Practical Examples and Common Errors"
   ]
  },
  {
   "cell_type": "code",
   "execution_count": 1,
   "id": "d10f5d56",
   "metadata": {},
   "outputs": [
    {
     "data": {
      "text/plain": [
       "list"
      ]
     },
     "execution_count": 1,
     "metadata": {},
     "output_type": "execute_result"
    }
   ],
   "source": [
    "lst = []\n",
    "type(lst)"
   ]
  },
  {
   "cell_type": "code",
   "execution_count": 2,
   "id": "b530870a",
   "metadata": {},
   "outputs": [
    {
     "name": "stdout",
     "output_type": "stream",
     "text": [
      "['Ram', 'Sham', 1, 2, 3]\n"
     ]
    }
   ],
   "source": [
    "names = [\"Ram\",\"Sham\",1,2,3]\n",
    "print(names)"
   ]
  },
  {
   "cell_type": "code",
   "execution_count": 4,
   "id": "c770f35b",
   "metadata": {},
   "outputs": [
    {
     "name": "stdout",
     "output_type": "stream",
     "text": [
      "apple\n",
      "guva\n"
     ]
    }
   ],
   "source": [
    "# Accessing list\n",
    "fruits = [\"apple\",\"banana\",\"orange\",\"watermelon\",\"kiwi\",\"guva\"]\n",
    "print(fruits[0])\n",
    "\n",
    "# Accessing Last Item\n",
    "print(fruits[-1])"
   ]
  },
  {
   "cell_type": "code",
   "execution_count": 6,
   "id": "3ec1517c",
   "metadata": {},
   "outputs": [
    {
     "name": "stdout",
     "output_type": "stream",
     "text": [
      "['apple', 'banana', 'orange', 'watermelon', 'kiwi', 'guva']\n"
     ]
    }
   ],
   "source": [
    "print(fruits[0:])"
   ]
  },
  {
   "cell_type": "code",
   "execution_count": 9,
   "id": "4dff8cfe",
   "metadata": {},
   "outputs": [
    {
     "name": "stdout",
     "output_type": "stream",
     "text": [
      "['guva', 'kiwi', 'watermelon', 'orange', 'banana', 'apple']\n"
     ]
    }
   ],
   "source": [
    "print(fruits[-1::-1])"
   ]
  },
  {
   "cell_type": "code",
   "execution_count": 11,
   "id": "503430f5",
   "metadata": {},
   "outputs": [
    {
     "name": "stdout",
     "output_type": "stream",
     "text": [
      "['apple', 'Grapes', 'orange', 'watermelon', 'kiwi', 'guva'] "
     ]
    }
   ],
   "source": [
    "# Modify List Element\n",
    "fruits[1] = \"Grapes\"\n",
    "print(fruits,end=\" \")"
   ]
  },
  {
   "cell_type": "code",
   "execution_count": 12,
   "id": "a58ddd45",
   "metadata": {},
   "outputs": [
    {
     "name": "stdout",
     "output_type": "stream",
     "text": [
      "['apple', 'P', 'e', 'a', 'r']\n"
     ]
    }
   ],
   "source": [
    "fruits[1:] = \"Pear\"\n",
    "print(fruits)"
   ]
  },
  {
   "cell_type": "code",
   "execution_count": null,
   "id": "e086adb5",
   "metadata": {},
   "outputs": [
    {
     "name": "stdout",
     "output_type": "stream",
     "text": [
      "['apple', 'P', 'e', 'a', 'r', 'Papaya']\n"
     ]
    }
   ],
   "source": [
    "# List Methods\n",
    "\n",
    "# Add element at the end\n",
    "fruits.append(\"Papaya\")\n",
    "print(fruits)"
   ]
  },
  {
   "cell_type": "code",
   "execution_count": 14,
   "id": "aa5ac032",
   "metadata": {},
   "outputs": [
    {
     "name": "stdout",
     "output_type": "stream",
     "text": [
      "['apple', 'P', 'e', 'a', 'r', 'Papaya', 'Cherry']\n"
     ]
    }
   ],
   "source": [
    "# Add element at particular index\n",
    "\n",
    "fruits.insert(len(fruits)+1,\"Cherry\")\n",
    "print(fruits)"
   ]
  },
  {
   "cell_type": "code",
   "execution_count": 15,
   "id": "c8172103",
   "metadata": {},
   "outputs": [
    {
     "name": "stdout",
     "output_type": "stream",
     "text": [
      "['P', 'e', 'a', 'r', 'Papaya', 'Cherry']\n"
     ]
    }
   ],
   "source": [
    "# Remove element (remove first occurance of an element)\n",
    "fruits.remove(\"apple\")\n",
    "print(fruits)"
   ]
  },
  {
   "cell_type": "code",
   "execution_count": 16,
   "id": "2eec2341",
   "metadata": {},
   "outputs": [
    {
     "name": "stdout",
     "output_type": "stream",
     "text": [
      "['P', 'e', 'a', 'r', 'Papaya']\n"
     ]
    }
   ],
   "source": [
    "# Remove last element\n",
    "fruits.pop()\n",
    "print(fruits)"
   ]
  },
  {
   "cell_type": "code",
   "execution_count": null,
   "id": "b8551e37",
   "metadata": {},
   "outputs": [
    {
     "data": {
      "text/plain": [
       "4"
      ]
     },
     "execution_count": 20,
     "metadata": {},
     "output_type": "execute_result"
    }
   ],
   "source": [
    "# Return First Index\n",
    "index = fruits.index(\"Papaya\")\n",
    "index"
   ]
  },
  {
   "cell_type": "code",
   "execution_count": null,
   "id": "a0c10c34",
   "metadata": {},
   "outputs": [
    {
     "data": {
      "text/plain": [
       "2"
      ]
     },
     "execution_count": 22,
     "metadata": {},
     "output_type": "execute_result"
    }
   ],
   "source": [
    "# Return count\n",
    "fruits.append(\"banana\")\n",
    "cnt = fruits.count(\"banana\")\n",
    "cnt"
   ]
  },
  {
   "cell_type": "code",
   "execution_count": 24,
   "id": "6c0680bd",
   "metadata": {},
   "outputs": [
    {
     "name": "stdout",
     "output_type": "stream",
     "text": [
      "['P', 'Papaya', 'Papaya', 'a', 'banana', 'banana', 'e', 'r']\n"
     ]
    }
   ],
   "source": [
    "# Sorting\n",
    "fruits.sort()\n",
    "print(fruits)"
   ]
  },
  {
   "cell_type": "code",
   "execution_count": 33,
   "id": "23672ab1",
   "metadata": {},
   "outputs": [
    {
     "data": {
      "text/plain": [
       "[4, 3, 2, 1]"
      ]
     },
     "execution_count": 33,
     "metadata": {},
     "output_type": "execute_result"
    }
   ],
   "source": [
    "# Reverse\n",
    "lst = [1,2,3,4]\n",
    "lst.reverse()\n",
    "lst\n"
   ]
  },
  {
   "cell_type": "code",
   "execution_count": 35,
   "id": "caf30f9b",
   "metadata": {},
   "outputs": [
    {
     "data": {
      "text/plain": [
       "[]"
      ]
     },
     "execution_count": 35,
     "metadata": {},
     "output_type": "execute_result"
    }
   ],
   "source": [
    "# Clear list\n",
    "lst.clear()\n",
    "lst"
   ]
  },
  {
   "cell_type": "code",
   "execution_count": 41,
   "id": "7bbf0cc5",
   "metadata": {},
   "outputs": [
    {
     "data": {
      "text/plain": [
       "[10, 8, 6, 4, 2]"
      ]
     },
     "execution_count": 41,
     "metadata": {},
     "output_type": "execute_result"
    }
   ],
   "source": [
    "## Slicing List\n",
    "numbers = [1, 2, 3, 4, 5, 6, 7, 8, 9, 10]\n",
    "\n",
    "# numbers[1:2]\n",
    "# numbers[:5]\n",
    "# numbers[::2]\n",
    "numbers[::-2]"
   ]
  },
  {
   "cell_type": "code",
   "execution_count": 42,
   "id": "8135b81f",
   "metadata": {},
   "outputs": [
    {
     "name": "stdout",
     "output_type": "stream",
     "text": [
      "1 2 3 4 5 6 7 8 9 10 "
     ]
    }
   ],
   "source": [
    "# Iterating Over List\n",
    "for i in numbers:\n",
    "    print(i,end=\" \")"
   ]
  },
  {
   "cell_type": "code",
   "execution_count": 44,
   "id": "05cfe459",
   "metadata": {},
   "outputs": [
    {
     "name": "stdout",
     "output_type": "stream",
     "text": [
      "0 1\n",
      "1 2\n",
      "2 3\n",
      "3 4\n",
      "4 5\n",
      "5 6\n",
      "6 7\n",
      "7 8\n",
      "8 9\n",
      "9 10\n"
     ]
    }
   ],
   "source": [
    "# Iterating with index\n",
    "for i,n in enumerate(numbers):\n",
    "    print(i,n)"
   ]
  },
  {
   "cell_type": "code",
   "execution_count": 45,
   "id": "51a7fa31",
   "metadata": {},
   "outputs": [
    {
     "data": {
      "text/plain": [
       "[0, 1, 2, 3, 4, 5, 6, 7, 8, 9]"
      ]
     },
     "execution_count": 45,
     "metadata": {},
     "output_type": "execute_result"
    }
   ],
   "source": [
    "# List compherison\n",
    "lst = []\n",
    "for i in range(10):\n",
    "    lst.append(i)\n",
    "\n",
    "lst"
   ]
  },
  {
   "cell_type": "markdown",
   "id": "7f736196",
   "metadata": {},
   "source": [
    "List Comprehension\n",
    "\n",
    "Basics Syantax [expression for item in iterable]\n",
    "\n",
    "with conditional logic [expression for item in iterable if condition]\n",
    "\n",
    "Nested List Comprehension [expression for item1 in iterable1 for item2 in iterable2]"
   ]
  },
  {
   "cell_type": "code",
   "execution_count": 48,
   "id": "e1cc92fc",
   "metadata": {},
   "outputs": [
    {
     "data": {
      "text/plain": [
       "[0, 1, 4, 9, 16, 25, 36, 49, 64, 81]"
      ]
     },
     "execution_count": 48,
     "metadata": {},
     "output_type": "execute_result"
    }
   ],
   "source": [
    "[x**2 for x in range(10)]"
   ]
  },
  {
   "cell_type": "code",
   "execution_count": 50,
   "id": "773bf61d",
   "metadata": {},
   "outputs": [
    {
     "data": {
      "text/plain": [
       "[True, False, True, False, True, False, True, False, True]"
      ]
     },
     "execution_count": 50,
     "metadata": {},
     "output_type": "execute_result"
    }
   ],
   "source": [
    "even = [n%2==0 for n in range(2,11)]\n",
    "even"
   ]
  },
  {
   "cell_type": "code",
   "execution_count": 51,
   "id": "d9f7c56a",
   "metadata": {},
   "outputs": [
    {
     "data": {
      "text/plain": [
       "[2, 4, 6, 8, 10]"
      ]
     },
     "execution_count": 51,
     "metadata": {},
     "output_type": "execute_result"
    }
   ],
   "source": [
    "even = [n for n in range(2,11) if n % 2 == 0]\n",
    "even"
   ]
  },
  {
   "cell_type": "code",
   "execution_count": 1,
   "id": "bf71ae6a",
   "metadata": {},
   "outputs": [
    {
     "data": {
      "text/plain": [
       "[[0, 11], [0, 12], [1, 11], [1, 12]]"
      ]
     },
     "execution_count": 1,
     "metadata": {},
     "output_type": "execute_result"
    }
   ],
   "source": [
    "## Nested List Comphrension\n",
    "\n",
    "lst1 = [[i,j] for i in range(0,2) for j in range(11,13)]\n",
    "lst1"
   ]
  },
  {
   "cell_type": "code",
   "execution_count": 2,
   "id": "4a398f81",
   "metadata": {},
   "outputs": [
    {
     "name": "stdout",
     "output_type": "stream",
     "text": [
      "[1, 2, 3, 4, 5]\n"
     ]
    }
   ],
   "source": [
    "# Take Input From User\n",
    "li = []\n",
    "n = int(input(\"Enter Size Of List :- \"))\n",
    "for i in range(n):\n",
    "    ele = int(input(\"Enter Element Value :- \"))\n",
    "    li.append(ele)\n",
    "\n",
    "print(li)"
   ]
  },
  {
   "cell_type": "markdown",
   "id": "b6327895",
   "metadata": {},
   "source": [
    "Conclusion\n",
    "List comprehensions are a powerful and concise way to create lists in Python. They are syntactically compact and can replace more verbose looping constructs. Understanding the syntax of list comprehensions will help you write cleaner and more efficient Python code."
   ]
  }
 ],
 "metadata": {
  "kernelspec": {
   "display_name": "base",
   "language": "python",
   "name": "python3"
  },
  "language_info": {
   "codemirror_mode": {
    "name": "ipython",
    "version": 3
   },
   "file_extension": ".py",
   "mimetype": "text/x-python",
   "name": "python",
   "nbconvert_exporter": "python",
   "pygments_lexer": "ipython3",
   "version": "3.12.7"
  }
 },
 "nbformat": 4,
 "nbformat_minor": 5
}
