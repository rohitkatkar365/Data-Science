{
 "cells": [
  {
   "cell_type": "markdown",
   "metadata": {},
   "source": [
    "# Module 3: Data Structures Assignments\n",
    "## Lesson 3.4: Dictionaries\n",
    "### Assignment 1: Creating and Accessing Dictionaries\n",
    "\n",
    "Create a dictionary with the first 10 positive integers as keys and their squares as values. Print the dictionary.\n",
    "\n",
    "### Assignment 2: Accessing Dictionary Elements\n",
    "\n",
    "Print the value of the key 5 and the keys of the dictionary created in Assignment 1.\n",
    "\n",
    "### Assignment 3: Dictionary Methods\n",
    "\n",
    "Add a new key-value pair (11, 121) to the dictionary created in Assignment 1 and then remove the key-value pair with key 1. Print the modified dictionary.\n",
    "\n",
    "### Assignment 4: Iterating Over Dictionaries\n",
    "\n",
    "Iterate over the dictionary created in Assignment 1 and print each key-value pair.\n",
    "\n",
    "### Assignment 5: Dictionary Comprehensions\n",
    "\n",
    "Create a new dictionary containing the cubes of the first 10 positive integers using a dictionary comprehension. Print the new dictionary.\n",
    "\n",
    "### Assignment 6: Merging Dictionaries\n",
    "\n",
    "Create two dictionaries: one with keys as the first 5 positive integers and values as their squares, and another with keys as the next 5 positive integers and values as their squares. Merge these dictionaries into a single dictionary and print it.\n",
    "\n",
    "### Assignment 7: Nested Dictionaries\n",
    "\n",
    "Create a nested dictionary representing a student with keys 'name', 'age', 'grades', where 'grades' is another dictionary with keys 'math', 'science', and 'english'. Print the nested dictionary.\n",
    "\n",
    "### Assignment 8: Dictionary of Lists\n",
    "\n",
    "Create a dictionary where the keys are the first 5 positive integers and the values are lists containing the first 5 multiples of the key. Print the dictionary.\n",
    "\n",
    "### Assignment 9: Dictionary of Tuples\n",
    "\n",
    "Create a dictionary where the keys are the first 5 positive integers and the values are tuples containing the key and its square. Print the dictionary.\n",
    "\n",
    "### Assignment 10: Dictionary and List Conversion\n",
    "\n",
    "Create a dictionary with the first 5 positive integers as keys and their squares as values. Convert the dictionary to a list of tuples and print it.\n",
    "\n",
    "### Assignment 11: Dictionary Filtering\n",
    "\n",
    "Create a dictionary with the first 10 positive integers as keys and their squares as values. Create a new dictionary containing only the key-value pairs where the key is even. Print the new dictionary.\n",
    "\n",
    "### Assignment 12: Dictionary Key and Value Transformation\n",
    "\n",
    "Create a dictionary with the first 5 positive integers as keys and their squares as values. Create a new dictionary with keys and values swapped. Print the new dictionary.\n",
    "\n",
    "### Assignment 13: Default Dictionary\n",
    "\n",
    "Create a default dictionary where each key has a default value of an empty list. Add some elements to the lists and print the dictionary.\n",
    "\n",
    "### Assignment 14: Counting with Dictionaries\n",
    "\n",
    "Write a function that takes a string and returns a dictionary with the count of each character in the string. Print the dictionary.\n",
    "\n",
    "### Assignment 15: Dictionary and JSON\n",
    "\n",
    "Create a dictionary representing a book with keys 'title', 'author', 'year', and 'genre'. Convert the dictionary to a JSON string and print it."
   ]
  },
  {
   "cell_type": "code",
   "execution_count": 3,
   "metadata": {},
   "outputs": [
    {
     "name": "stdout",
     "output_type": "stream",
     "text": [
      "{1: 1, 2: 4, 3: 9, 4: 16, 5: 25, 6: 36, 7: 49, 8: 64, 9: 81, 10: 100}\n"
     ]
    }
   ],
   "source": [
    "### Assignment 1: Creating and Accessing Dictionaries\n",
    "\n",
    "# Create a dictionary with the first 10 positive integers as keys and their squares as values. Print the dictionary.\n",
    "d1 = {x : x ** 2 for x in range(1,11)}\n",
    "print(d1)"
   ]
  },
  {
   "cell_type": "code",
   "execution_count": 5,
   "id": "a4ed6e4e",
   "metadata": {},
   "outputs": [
    {
     "name": "stdout",
     "output_type": "stream",
     "text": [
      "25\n",
      "dict_keys([1, 2, 3, 4, 5, 6, 7, 8, 9, 10])\n"
     ]
    }
   ],
   "source": [
    "### Assignment 2: Accessing Dictionary Elements\n",
    "\n",
    "# Print the value of the key 5 and the keys of the dictionary created in Assignment 1.\n",
    "print(d1[5])\n",
    "print(d1.keys())"
   ]
  },
  {
   "cell_type": "code",
   "execution_count": 7,
   "id": "bd3bab98",
   "metadata": {},
   "outputs": [
    {
     "name": "stdout",
     "output_type": "stream",
     "text": [
      "{1: 1, 2: 4, 3: 9, 4: 16, 5: 25, 6: 36, 7: 49, 8: 64, 9: 81, 10: 100, 11: 121}\n",
      "{2: 4, 3: 9, 4: 16, 5: 25, 6: 36, 7: 49, 8: 64, 9: 81, 10: 100, 11: 121}\n"
     ]
    }
   ],
   "source": [
    "### Assignment 3: Dictionary Methods\n",
    "# Add a new key-value pair (11, 121) to the dictionary created in Assignment 1 and then remove the key-value pair with key 1. Print the modified dictionary.\n",
    "\n",
    "d1[11] = 121\n",
    "print(d1)\n",
    "d1.pop(1)\n",
    "print(d1)"
   ]
  },
  {
   "cell_type": "code",
   "execution_count": 9,
   "id": "55991bc0",
   "metadata": {},
   "outputs": [
    {
     "name": "stdout",
     "output_type": "stream",
     "text": [
      "2 : 4 3 : 9 4 : 16 5 : 25 6 : 36 7 : 49 8 : 64 9 : 81 10 : 100 11 : 121 "
     ]
    }
   ],
   "source": [
    "### Assignment 4: Iterating Over Dictionaries\n",
    "\n",
    "# Iterate over the dictionary created in Assignment 1 and print each key-value pair.\n",
    "for key,val in d1.items():\n",
    "    print(f\"{key} : {val}\",end=\" \")"
   ]
  },
  {
   "cell_type": "code",
   "execution_count": 10,
   "id": "d56b72c9",
   "metadata": {},
   "outputs": [
    {
     "name": "stdout",
     "output_type": "stream",
     "text": [
      "{1: 1, 2: 8, 3: 27, 4: 64, 5: 125, 6: 216, 7: 343, 8: 512, 9: 729, 10: 1000}\n"
     ]
    }
   ],
   "source": [
    "### Assignment 5: Dictionary Comprehensions\n",
    "\n",
    "# Create a new dictionary containing the cubes of the first 10 positive integers using a dictionary comprehension. Print the new dictionary.\n",
    "d2 = {x : x ** 3 for x in range(1,11)}\n",
    "print(d2)"
   ]
  },
  {
   "cell_type": "code",
   "execution_count": 11,
   "id": "f301f1d6",
   "metadata": {},
   "outputs": [
    {
     "name": "stdout",
     "output_type": "stream",
     "text": [
      "{1: 1, 2: 4, 3: 9, 4: 16, 5: 25, 6: 36, 7: 49, 8: 64, 9: 81, 10: 100}\n"
     ]
    }
   ],
   "source": [
    "### Assignment 6: Merging Dictionaries\n",
    "\n",
    "# Create two dictionaries: one with keys as the first 5 positive integers and values as their squares, and another with keys as the next 5 positive integers\n",
    "#  and values as their squares. Merge these dictionaries into a single dictionary and print it.\n",
    "\n",
    "d3 = {x : x ** 2 for x in range(1,6)}\n",
    "d4 = {x : x ** 2 for x in range(6,11)}\n",
    "\n",
    "merged_dict = {**d3,**d4}\n",
    "print(merged_dict)"
   ]
  },
  {
   "cell_type": "code",
   "execution_count": 12,
   "id": "65acba40",
   "metadata": {},
   "outputs": [
    {
     "name": "stdout",
     "output_type": "stream",
     "text": [
      "{'name': 'John Doe', 'age': 16, 'grades': {'math': 90, 'science': 85, 'english': 88}}\n"
     ]
    }
   ],
   "source": [
    "### Assignment 7: Nested Dictionaries\n",
    "\n",
    "# Create a nested dictionary representing a student with keys 'name', 'age', 'grades', where 'grades' is another dictionary with keys 'math', 'science', \n",
    "# and 'english'. Print the nested dictionary.\n",
    "\n",
    "student = {\n",
    "    \"name\": \"John Doe\",\n",
    "    \"age\": 16,\n",
    "    \"grades\": {\n",
    "        \"math\": 90,\n",
    "        \"science\": 85,\n",
    "        \"english\": 88\n",
    "    }\n",
    "}\n",
    "\n",
    "print(student)\n"
   ]
  },
  {
   "cell_type": "code",
   "execution_count": 14,
   "id": "7965a2ae",
   "metadata": {},
   "outputs": [
    {
     "name": "stdout",
     "output_type": "stream",
     "text": [
      "{1: [1, 2, 3, 4, 5], 2: [2, 4, 6, 8, 10], 3: [3, 6, 9, 12, 15], 4: [4, 8, 12, 16, 20], 5: [5, 10, 15, 20, 25]}\n"
     ]
    }
   ],
   "source": [
    "### Assignment 8: Dictionary of Lists\n",
    "\n",
    "# Create a dictionary where the keys are the first 5 positive integers and the values are lists containing the first 5 multiples of the key.\n",
    "#  Print the dictionary.\n",
    "\n",
    "d5 = {x: [x * i for i in range(1, 6)] for x in range(1, 6)}\n",
    "print(d5)"
   ]
  },
  {
   "cell_type": "code",
   "execution_count": 18,
   "id": "3ab74fd3",
   "metadata": {},
   "outputs": [
    {
     "name": "stdout",
     "output_type": "stream",
     "text": [
      "{1: (1, 1), 2: (2, 4), 3: (3, 9), 4: (4, 16), 5: (5, 25)}\n"
     ]
    }
   ],
   "source": [
    "### Assignment 9: Dictionary of Tuples\n",
    "\n",
    "# Create a dictionary where the keys are the first 5 positive integers and the values are tuples containing the key and its square. Print the dictionary.\n",
    "d6 = {x: (x, x**2) for x in range(1, 6)}\n",
    "print(d6)"
   ]
  },
  {
   "cell_type": "code",
   "execution_count": 23,
   "id": "69a8bbde",
   "metadata": {},
   "outputs": [
    {
     "name": "stdout",
     "output_type": "stream",
     "text": [
      "dict_items([(1, 1), (2, 4), (3, 9), (4, 16), (5, 25)])\n"
     ]
    }
   ],
   "source": [
    "### Assignment 10: Dictionary and List Conversion\n",
    "\n",
    "# Create a dictionary with the first 5 positive integers as keys and their squares as values. Convert the dictionary to a list of tuples and print it.\n",
    "d7 = {x : x**2 for x in range(1,6)}\n",
    "tup_dict = d7.items()\n",
    "print(tup_dict)"
   ]
  },
  {
   "cell_type": "code",
   "execution_count": 27,
   "id": "09ab8a5e",
   "metadata": {},
   "outputs": [
    {
     "name": "stdout",
     "output_type": "stream",
     "text": [
      "{2: 4, 4: 16, 6: 36, 8: 64, 10: 100}\n"
     ]
    }
   ],
   "source": [
    "### Assignment 11: Dictionary Filtering\n",
    "\n",
    "# Create a dictionary with the first 10 positive integers as keys and their squares as values. Create a new dictionary containing only the key-value \n",
    "# pairs where the key is even. Print the new dictionary.\n",
    "\n",
    "d8 = {x : x ** 2 for x in range(1,11)}\n",
    "d9 = {x : d8[x] for x in d8 if x % 2 == 0}\n",
    "print(d9)\n"
   ]
  },
  {
   "cell_type": "code",
   "execution_count": 28,
   "id": "84965f43",
   "metadata": {},
   "outputs": [
    {
     "name": "stdout",
     "output_type": "stream",
     "text": [
      "{1: 1, 4: 2, 9: 3, 16: 4, 25: 5}\n"
     ]
    }
   ],
   "source": [
    "### Assignment 12: Dictionary Key and Value Transformation\n",
    "\n",
    "# Create a dictionary with the first 5 positive integers as keys and their squares as values. Create a new dictionary with keys and values swapped.\n",
    "#  Print the new dictionary.\n",
    "d10 = {x : x ** 2 for x in range(1,6)}\n",
    "d11 = {d10[x]:x for x in d10}\n",
    "print(d11)"
   ]
  },
  {
   "cell_type": "code",
   "execution_count": 29,
   "id": "dc33bfd9",
   "metadata": {},
   "outputs": [
    {
     "name": "stdout",
     "output_type": "stream",
     "text": [
      "{1: [10, 20, 30], 2: [40, 50], 3: [60]}\n"
     ]
    }
   ],
   "source": [
    "### Assignment 13: Default Dictionary\n",
    "\n",
    "# Create a default dictionary where each key has a default value of an empty list. Add some elements to the lists and print the dictionary.\n",
    "from collections import defaultdict\n",
    "\n",
    "d12 = defaultdict(list)\n",
    "\n",
    "d12[1].extend([10, 20, 30])\n",
    "d12[2].extend([40, 50])\n",
    "d12[3].append(60)  \n",
    "\n",
    "print(dict(d12))"
   ]
  },
  {
   "cell_type": "code",
   "execution_count": 34,
   "id": "41b3460c",
   "metadata": {},
   "outputs": [
    {
     "name": "stdout",
     "output_type": "stream",
     "text": [
      "{'h': 1, 'e': 1, 'l': 3, 'o': 2, ' ': 1, 'w': 1, 'r': 1, 'd': 1}\n"
     ]
    }
   ],
   "source": [
    "### Assignment 14: Counting with Dictionaries\n",
    "\n",
    "# Write a function that takes a string and returns a dictionary with the count of each character in the string. Print the dictionary.\n",
    "def char_count(s):\n",
    "    count_dict = {}\n",
    "    for char in s:\n",
    "        count_dict[char] = count_dict.get(char, 0) + 1\n",
    "    return count_dict\n",
    "\n",
    "string = \"hello world\"\n",
    "result = char_count(string)\n",
    "print(result)\n"
   ]
  },
  {
   "cell_type": "code",
   "execution_count": null,
   "id": "dec3ab4a",
   "metadata": {},
   "outputs": [
    {
     "name": "stdout",
     "output_type": "stream",
     "text": [
      "{\n",
      "    \"title\": \"To Kill a Mockingbird\",\n",
      "    \"author\": \"Harper Lee\",\n",
      "    \"year\": 1960,\n",
      "    \"genre\": \"Fiction\"\n",
      "}\n"
     ]
    }
   ],
   "source": [
    "### Assignment 15: Dictionary and JSON\n",
    "\n",
    "# Create a dictionary representing a book with keys 'title', 'author', 'year', and 'genre'. Convert the dictionary to a JSON string and print it.\n",
    "\n",
    "import json\n",
    "book = {\n",
    "    \"title\": \"To Kill a Mockingbird\",\n",
    "    \"author\": \"Harper Lee\",\n",
    "    \"year\": 1960,\n",
    "    \"genre\": \"Fiction\"\n",
    "}\n",
    "\n",
    "with open(\"book.json\",\"w\") as file:\n",
    "    json.dump(book,file,indent=4)\n",
    "print(\"Json data write suucessfully\")\n",
    "import json\n",
    "\n",
    "book = {\n",
    "    \"title\": \"To Kill a Mockingbird\",\n",
    "    \"author\": \"Harper Lee\",\n",
    "    \"year\": 1960,\n",
    "    \"genre\": \"Fiction\"\n",
    "}\n",
    "\n",
    "json_string = json.dumps(book, indent=4)\n",
    "print(json_string)\n"
   ]
  },
  {
   "cell_type": "code",
   "execution_count": null,
   "id": "d3aa6e18",
   "metadata": {},
   "outputs": [],
   "source": []
  }
 ],
 "metadata": {
  "kernelspec": {
   "display_name": "base",
   "language": "python",
   "name": "python3"
  },
  "language_info": {
   "codemirror_mode": {
    "name": "ipython",
    "version": 3
   },
   "file_extension": ".py",
   "mimetype": "text/x-python",
   "name": "python",
   "nbconvert_exporter": "python",
   "pygments_lexer": "ipython3",
   "version": "3.12.7"
  }
 },
 "nbformat": 4,
 "nbformat_minor": 5
}
